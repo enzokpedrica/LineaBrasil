{
 "cells": [
  {
   "cell_type": "code",
   "execution_count": 1,
   "id": "c6f58334",
   "metadata": {},
   "outputs": [
    {
     "name": "stderr",
     "output_type": "stream",
     "text": [
      "<>:5: SyntaxWarning: invalid escape sequence '\\g'\n",
      "<>:5: SyntaxWarning: invalid escape sequence '\\g'\n",
      "C:\\Users\\enzo.pedrica\\AppData\\Local\\Temp\\ipykernel_22916\\1384304011.py:5: SyntaxWarning: invalid escape sequence '\\g'\n",
      "  df_vidros = pd.read_excel(\"C:\\git\\linea\\Isopor\\Outros\\Vidros.xlsx\")\n"
     ]
    }
   ],
   "source": [
    "import pandas as pd\n",
    "\n",
    "# Carrega os dados (você pode substituir por pd.read_excel se estiver lendo de arquivos)\n",
    "df_principal = pd.read_excel(\"Mapa_Producao.xlsx\")\n",
    "df_vidros = pd.read_excel(\"C:\\git\\linea\\Isopor\\Outros\\Vidros.xlsx\")\n",
    "\n",
    "# Normaliza os nomes para facilitar a comparação\n",
    "df_principal['Produto'] = df_principal['Produto'].str.upper()\n",
    "df_vidros['Lote'] = df_vidros['Lote'].str.upper()\n",
    "\n",
    "# Função para verificar se algum nome de lote de vidro está contido no nome do produto\n",
    "def verificar_vidro(produto, lotes_vidro):\n",
    "    for lote in lotes_vidro:\n",
    "        if lote in produto:\n",
    "            return \"Separar\"\n",
    "    return \"N/C\"\n",
    "\n",
    "# Aplica a função à coluna 'Produto'\n",
    "df_principal['Vidro'] = df_principal['Produto'].apply(lambda x: verificar_vidro(x, df_vidros['Lote'].values))\n",
    "\n",
    "# Salva o resultado em um novo arquivo\n",
    "df_principal.to_excel(\"planilha_atualizada.xlsx\", index=False)\n"
   ]
  }
 ],
 "metadata": {
  "kernelspec": {
   "display_name": "Python 3",
   "language": "python",
   "name": "python3"
  },
  "language_info": {
   "codemirror_mode": {
    "name": "ipython",
    "version": 3
   },
   "file_extension": ".py",
   "mimetype": "text/x-python",
   "name": "python",
   "nbconvert_exporter": "python",
   "pygments_lexer": "ipython3",
   "version": "3.13.2"
  }
 },
 "nbformat": 4,
 "nbformat_minor": 5
}
