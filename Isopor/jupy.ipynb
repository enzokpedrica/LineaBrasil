{
 "cells": [
  {
   "cell_type": "code",
   "execution_count": 157,
   "id": "d5ec655d",
   "metadata": {},
   "outputs": [],
   "source": [
    "import pandas as pd\n",
    "\n",
    "file_txt = \"mapa.TXT\"\n",
    "\n",
    "colunas =[\"Lote\", \"N Pedido\", \"Produto\", \"Cor Etiq\", \"QTD Vol\", \"Data Corte\", \"Data Emb\", \"Status\", \"N/A\"]\n",
    "df = pd.read_csv(file_txt, skiprows=23, delimiter=\";\", names=colunas)\n",
    "df = df.dropna(subset=[\"N Pedido\"])\n",
    "df = df.drop([\"Status\", \"N/A\"], axis=1)\n",
    "df [\"Status\"] = \"\"\n",
    "df.to_excel(\"Isopores.xlsx\",index=False,engine='openpyxl')\n"
   ]
  },
  {
   "cell_type": "code",
   "execution_count": 158,
   "id": "68bea231",
   "metadata": {},
   "outputs": [
    {
     "name": "stdout",
     "output_type": "stream",
     "text": [
      "<openpyxl.workbook.workbook.Workbook object at 0x000001C38A1A1450>\n"
     ]
    },
    {
     "data": {
      "text/plain": [
       "<Popen: returncode: None args: ['start', 'excel.exe', 'Isopores.xlsx']>"
      ]
     },
     "execution_count": 158,
     "metadata": {},
     "output_type": "execute_result"
    }
   ],
   "source": [
    "import openpyxl\n",
    "from openpyxl.worksheet.datavalidation import DataValidation\n",
    "from openpyxl.styles import Border, Side, Alignment, Font, PatternFill\n",
    "import pandas as pd\n",
    "import subprocess\n",
    "\n",
    "wb = openpyxl.load_workbook(\"Isopores.xlsx\")\n",
    "print(wb)\n",
    "sheet = wb.active\n",
    "\n",
    "validacao = '\"Mapeado, Conferido, Entregue\"'\n",
    "\n",
    "rule = DataValidation(type='list',formula1=validacao, allow_blank=True)\n",
    "\n",
    "rule.error  = \"Entrada Inválida\"\n",
    "rule.errorTitle = \"Selecione Corretamente\"\n",
    "\n",
    "rule.prompt = \"Selecione a Lista\"\n",
    "rule.promptTitle = \"Selecione a opção\"\n",
    "\n",
    "sheet.add_data_validation(rule)\n",
    "\n",
    "rule.add(\"H2:H250\")\n",
    "\n",
    "# Adicione bordas de separação para linhas e colunas\n",
    "borda = Border(left=Side(style='thin'), \n",
    "                        right=Side(style='thin'), \n",
    "                        top=Side(style='thin'), \n",
    "                        bottom=Side(style='thin'))\n",
    "\n",
    "for row in sheet.iter_rows(min_row=1, max_row=sheet.max_row, min_col=1, max_col=sheet.max_column):\n",
    "    for cell in row:\n",
    "        cell.border = borda\n",
    "\n",
    "# Definindo o tamanho das colunas\n",
    "column_widths = {\n",
    "        'A': 9,  # Lote\n",
    "        'B': 11,  # N Pedido\n",
    "        'C': 60,  # Produto\n",
    "        'D': 11,  # Cor\n",
    "        'E': 10,  # QTD Vol\n",
    "        'F': 15,  # Data Corte\n",
    "        'G': 15,  # Data Embalagem\n",
    "        'H': 11,  # Status\n",
    "}\n",
    "\n",
    "for coluna, tamanho in column_widths.items():\n",
    "    sheet.column_dimensions[coluna].width = tamanho\n",
    "\n",
    "for row in sheet[2:sheet.max_row]:\n",
    "    for col1 in [3, 4, 5, 6, 7]:\n",
    "        cell = row[col1]\n",
    "        cell.alignment = Alignment(horizontal='center')\n",
    "    for col2 in [0, 1]:\n",
    "        cell = row[col2]\n",
    "        cell.alignment = Alignment(horizontal='left')\n",
    "\n",
    " # Define a fonte com tamanho de 10 pontos\n",
    "fonte_padrao = Font(size=10)\n",
    "\n",
    "# Aplica a fonte para todas as células\n",
    "for row in sheet.iter_rows(min_row=1, max_row=sheet.max_row, min_col=1, max_col=sheet.max_column):\n",
    "    for cell in row:\n",
    "        cell.font = fonte_padrao\n",
    "\n",
    "\n",
    "# Estilo do cabeçalho (A1:H1)\n",
    "fonte_cabecalho = Font(size=11, bold=True, color=\"00333333\")\n",
    "fundo_roxo_claro = PatternFill(start_color=\"D9CCE3\", end_color=\"D9CCE3\", fill_type=\"solid\")\n",
    "\n",
    "\n",
    "for cell in sheet[\"A1:H1\"][0]:\n",
    "    cell.font = fonte_cabecalho\n",
    "    cell.fill = fundo_roxo_claro\n",
    "    cell.alignment = Alignment(horizontal=\"center\", vertical=\"center\")\n",
    "\n",
    "\n",
    "\n",
    "# Salva o novo arquivo\n",
    "wb.save(\"Isopores.xlsx\")\n",
    "\n",
    "subprocess.Popen(['start', 'excel.exe', 'Isopores.xlsx'], shell=True)\n"
   ]
  }
 ],
 "metadata": {
  "kernelspec": {
   "display_name": "Python 3",
   "language": "python",
   "name": "python3"
  },
  "language_info": {
   "codemirror_mode": {
    "name": "ipython",
    "version": 3
   },
   "file_extension": ".py",
   "mimetype": "text/x-python",
   "name": "python",
   "nbconvert_exporter": "python",
   "pygments_lexer": "ipython3",
   "version": "3.13.2"
  }
 },
 "nbformat": 4,
 "nbformat_minor": 5
}
