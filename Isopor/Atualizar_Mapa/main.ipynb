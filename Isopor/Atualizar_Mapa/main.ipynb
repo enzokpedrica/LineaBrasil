{
 "cells": [
  {
   "cell_type": "code",
   "execution_count": 4,
   "id": "b7db9e51",
   "metadata": {},
   "outputs": [],
   "source": [
    "import pandas as pd\n",
    "\n",
    "# Carrega os dois arquivos\n",
    "\n",
    "mapa_antigo = \"mapa_antigo.TXT\"\n",
    "mapa_novo = \"mapa_novo.TXT\"\n",
    "\n",
    "colunas =[\"Lote\", \"N Pedido\", \"Produto\", \"Cor Etiq\", \"QTD Vol\", \"Data Corte\", \"Data Emb\", \"Status\", \"N/A\"]\n",
    "\n",
    "df_antigo = pd.read_csv(mapa_antigo, skiprows=23, delimiter=\";\", names=colunas)\n",
    "\n",
    "df_antigo = df_antigo.dropna(subset=[\"N Pedido\"])\n",
    "df_antigo = df_antigo.drop([\"QTD Vol\", \"Data Corte\",\"Status\", \"N/A\"], axis=1)\n",
    "df_antigo [\"Isopor\"] = \"Não Conferido\"\n",
    "df_antigo [\"Tecnoplac\"] = \"Não Conferido\"\n",
    "df_antigo [\"Lote_Cx\"] = \"Não Conferido\"\n",
    "\n",
    "df_novo = pd.read_csv(mapa_novo, skiprows=23, delimiter=\";\", names=colunas)\n",
    "df_novo = df_novo.dropna(subset=[\"N Pedido\"])\n",
    "df_novo = df_novo.drop([\"QTD Vol\", \"Data Corte\",\"Status\", \"N/A\"], axis=1)\n",
    "df_novo [\"Isopor\"] = \"Não Conferido\"\n",
    "df_novo [\"Tecnoplac\"] = \"Não Conferido\"\n",
    "df_novo [\"Lote_Cx\"] = \"Não Conferido\"\n",
    "\n",
    "\n",
    "# Escolhe colunas-chave para identificar cada produto (exemplo: código + descrição)\n",
    "chaves = [\"Lote\", \"Produto\"]\n",
    "\n",
    "# Faz o merge (join) dos dois arquivos\n",
    "df_merged = pd.merge(df_novo, df_antigo, on=chaves, how=\"left\", suffixes=('', '_antigo'))\n",
    "\n",
    "# Substitui valores antigos em colunas desejadas caso estejam vazios no novo\n",
    "colunas_preservar = [\"Isopor\", \"Tecnoplac\", \"Lote_Cx\"]\n",
    "\n",
    "for coluna in colunas_preservar:\n",
    "    df_merged[coluna] = df_merged[coluna].combine_first(df_merged[f\"{coluna}_antigo\"])\n",
    "\n",
    "# Se quiser, pode eliminar as colunas _antigo\n",
    "df_final = df_merged.drop(columns=[f\"{col}_antigo\" for col in colunas_preservar])\n",
    "\n",
    "# Exporta a nova planilha atualizada\n",
    "df_final.to_excel(\"mapa_atualizado.xlsx\", index=False)"
   ]
  }
 ],
 "metadata": {
  "kernelspec": {
   "display_name": "Python 3",
   "language": "python",
   "name": "python3"
  },
  "language_info": {
   "codemirror_mode": {
    "name": "ipython",
    "version": 3
   },
   "file_extension": ".py",
   "mimetype": "text/x-python",
   "name": "python",
   "nbconvert_exporter": "python",
   "pygments_lexer": "ipython3",
   "version": "3.12.4"
  }
 },
 "nbformat": 4,
 "nbformat_minor": 5
}
