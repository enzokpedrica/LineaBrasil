{
 "cells": [
  {
   "cell_type": "code",
   "execution_count": 58,
   "id": "63107487",
   "metadata": {},
   "outputs": [
    {
     "data": {
      "text/plain": [
       "Index(['Documento: RSG - Registro do Sistema de Gestão', 'Anexos:', 'Página:',\n",
       "       'Unnamed: 3'],\n",
       "      dtype='object')"
      ]
     },
     "execution_count": 58,
     "metadata": {},
     "output_type": "execute_result"
    }
   ],
   "source": [
    "import pandas as pd\n",
    "\n",
    "file = 'isopor.TXT'\n",
    "\n",
    "\n",
    "df_requisicao = pd.read_fwf(file, encoding='latin1')\n",
    "df_requisicao.columns"
   ]
  },
  {
   "cell_type": "code",
   "execution_count": null,
   "id": "8b4da1f2",
   "metadata": {},
   "outputs": [],
   "source": []
  }
 ],
 "metadata": {
  "kernelspec": {
   "display_name": "Python 3",
   "language": "python",
   "name": "python3"
  },
  "language_info": {
   "codemirror_mode": {
    "name": "ipython",
    "version": 3
   },
   "file_extension": ".py",
   "mimetype": "text/x-python",
   "name": "python",
   "nbconvert_exporter": "python",
   "pygments_lexer": "ipython3",
   "version": "3.13.2"
  }
 },
 "nbformat": 4,
 "nbformat_minor": 5
}
